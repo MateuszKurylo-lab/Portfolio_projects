{
 "cells": [
  {
   "cell_type": "code",
   "execution_count": 2,
   "metadata": {},
   "outputs": [],
   "source": [
    "from bs4 import BeautifulSoup\n",
    "import requests"
   ]
  },
  {
   "cell_type": "code",
   "execution_count": 114,
   "metadata": {},
   "outputs": [],
   "source": [
    "url = 'https://coinmarketcap.com/currencies/bitcoin/'"
   ]
  },
  {
   "cell_type": "code",
   "execution_count": 115,
   "metadata": {},
   "outputs": [],
   "source": [
    "page = requests.get(url)\n",
    "\n",
    "\n",
    "soup = BeautifulSoup(page.text, 'html')"
   ]
  },
  {
   "cell_type": "code",
   "execution_count": 116,
   "metadata": {},
   "outputs": [
    {
     "data": {
      "text/plain": [
       "'Bitcoin price'"
      ]
     },
     "execution_count": 116,
     "metadata": {},
     "output_type": "execute_result"
    }
   ],
   "source": [
    "#Pulling out coin name \n",
    "\n",
    "text = soup.find('span', class_ = 'sc-65e7f566-0 lsTl').text\n",
    "\n",
    "text"
   ]
  },
  {
   "cell_type": "code",
   "execution_count": 117,
   "metadata": {},
   "outputs": [
    {
     "name": "stdout",
     "output_type": "stream",
     "text": [
      "Bitcoin\n"
     ]
    }
   ],
   "source": [
    "coin_name = text.split()[0]\n",
    "\n",
    "print(coin_name)"
   ]
  },
  {
   "cell_type": "code",
   "execution_count": 106,
   "metadata": {},
   "outputs": [
    {
     "data": {
      "text/plain": [
       "<span class=\"sc-65e7f566-0 WXGwg base-text\" data-test=\"text-cdp-price-display\">$99,094.93</span>"
      ]
     },
     "execution_count": 106,
     "metadata": {},
     "output_type": "execute_result"
    }
   ],
   "source": [
    "soup.find('span', class_ = 'sc-65e7f566-0 WXGwg base-text')"
   ]
  },
  {
   "cell_type": "code",
   "execution_count": 104,
   "metadata": {},
   "outputs": [
    {
     "name": "stdout",
     "output_type": "stream",
     "text": [
      "99,094.93\n"
     ]
    }
   ],
   "source": [
    "#pulling out coin price\n",
    "\n",
    "crypto_price = soup.find('span', class_ = 'sc-65e7f566-0 WXGwg base-text').text\n",
    "\n",
    "final_price = crypto_price.replace('$', '')\n",
    "\n",
    "print(final_price)"
   ]
  },
  {
   "cell_type": "code",
   "execution_count": 38,
   "metadata": {},
   "outputs": [],
   "source": [
    "import pandas as pd"
   ]
  },
  {
   "cell_type": "code",
   "execution_count": 49,
   "metadata": {},
   "outputs": [
    {
     "name": "stdout",
     "output_type": "stream",
     "text": [
      "2025-02-04 13:29:24.987145\n"
     ]
    }
   ],
   "source": [
    "from datetime import datetime\n",
    "\n"
   ]
  },
  {
   "cell_type": "code",
   "execution_count": 83,
   "metadata": {},
   "outputs": [
    {
     "data": {
      "text/html": [
       "<div>\n",
       "<style scoped>\n",
       "    .dataframe tbody tr th:only-of-type {\n",
       "        vertical-align: middle;\n",
       "    }\n",
       "\n",
       "    .dataframe tbody tr th {\n",
       "        vertical-align: top;\n",
       "    }\n",
       "\n",
       "    .dataframe thead th {\n",
       "        text-align: right;\n",
       "    }\n",
       "</style>\n",
       "<table border=\"1\" class=\"dataframe\">\n",
       "  <thead>\n",
       "    <tr style=\"text-align: right;\">\n",
       "      <th></th>\n",
       "      <th>Crypto name</th>\n",
       "      <th>Price</th>\n",
       "      <th>Time</th>\n",
       "    </tr>\n",
       "  </thead>\n",
       "  <tbody>\n",
       "    <tr>\n",
       "      <th>0</th>\n",
       "      <td>Bitcoin</td>\n",
       "      <td>99,094.93</td>\n",
       "      <td>2025-02-04 13:33:05.512114</td>\n",
       "    </tr>\n",
       "  </tbody>\n",
       "</table>\n",
       "</div>"
      ],
      "text/plain": [
       "  Crypto name      Price                       Time\n",
       "0     Bitcoin  99,094.93 2025-02-04 13:33:05.512114"
      ]
     },
     "execution_count": 83,
     "metadata": {},
     "output_type": "execute_result"
    }
   ],
   "source": [
    "#Creating data frame\n",
    "\n",
    "date_time = datetime.now()\n",
    "\n",
    "dict = {'Crypto name': coin_name, \n",
    "        'Price': final_price,\n",
    "        'Time': date_time} \n",
    "\n",
    "\n",
    "df = pd.DataFrame(dict, index=[0])\n",
    "df"
   ]
  },
  {
   "cell_type": "code",
   "execution_count": 48,
   "metadata": {},
   "outputs": [
    {
     "name": "stdout",
     "output_type": "stream",
     "text": [
      "2025-02-04 13:28:19.374969\n"
     ]
    }
   ],
   "source": [
    "from datetime import datetime\n",
    "\n",
    "date_time = datetime.now()\n",
    "\n",
    "print(date_time)"
   ]
  },
  {
   "cell_type": "code",
   "execution_count": 84,
   "metadata": {},
   "outputs": [],
   "source": [
    "# saving output as csv\n",
    "\n",
    "df.to_csv(r'D:\\Python File\\Crypto web puller\\Crypto_pirces.csv')"
   ]
  },
  {
   "cell_type": "code",
   "execution_count": 85,
   "metadata": {},
   "outputs": [],
   "source": [
    "import os"
   ]
  },
  {
   "cell_type": "code",
   "execution_count": 89,
   "metadata": {},
   "outputs": [],
   "source": [
    "if os.path.exists(r'D:\\Python File\\Crypto web puller\\Crypto_pirces.csv'):\n",
    "    df.to_csv(r'D:\\Python File\\Crypto web puller\\Crypto_pirces.csv', mode= 'a', header=False)\n",
    "else:\n",
    "    df.to_csv(r'D:\\Python File\\Crypto web puller\\Crypto_pirces.csv')"
   ]
  },
  {
   "cell_type": "markdown",
   "metadata": {},
   "source": [
    "All together\n"
   ]
  },
  {
   "cell_type": "code",
   "execution_count": 97,
   "metadata": {},
   "outputs": [],
   "source": [
    "from bs4 import BeautifulSoup\n",
    "import requests\n",
    "import pandas as pd\n",
    "from datetime import datetime\n",
    "import os\n",
    "import time"
   ]
  },
  {
   "cell_type": "code",
   "execution_count": 98,
   "metadata": {},
   "outputs": [],
   "source": [
    "\n",
    "def automated_cryptopo_pull():\n",
    "        url = 'https://coinmarketcap.com/currencies/bitcoin/'\n",
    "\n",
    "        page = requests.get(url)\n",
    "\n",
    "        soup = BeautifulSoup(page.text, 'html')\n",
    "\n",
    "\n",
    "        text = soup.find('span', class_ = 'sc-65e7f566-0 lsTl').text\n",
    "        coin_name = text.split()[0]\n",
    "\n",
    "\n",
    "        crypto_price = soup.find('span', class_ = 'sc-65e7f566-0 WXGwg base-text').text\n",
    "        final_price = crypto_price.replace('$', '')\n",
    "\n",
    "\n",
    "        date_time = datetime.now()\n",
    "\n",
    "        dict = {'Crypto name': coin_name, \n",
    "                'Price': final_price,\n",
    "                'Time': date_time} \n",
    "\n",
    "\n",
    "        df = pd.DataFrame(dict, index=[0])\n",
    "\n",
    "        if os.path.exists(r'D:\\Python File\\Crypto web puller\\Crypto_pirces.csv'):\n",
    "                df.to_csv(r'D:\\Python File\\Crypto web puller\\Crypto_pirces.csv', mode= 'a', header=False)\n",
    "        else:\n",
    "                df.to_csv(r'D:\\Python File\\Crypto web puller\\Crypto_pirces.csv')\n",
    "        \n",
    "        print(df)"
   ]
  },
  {
   "cell_type": "markdown",
   "metadata": {},
   "source": [
    "Lets automate the code"
   ]
  },
  {
   "cell_type": "code",
   "execution_count": null,
   "metadata": {},
   "outputs": [],
   "source": [
    "while True:\n",
    "    automated_cryptopo_pull()\n",
    "    time.sleep(10)"
   ]
  }
 ],
 "metadata": {
  "kernelspec": {
   "display_name": "base",
   "language": "python",
   "name": "python3"
  },
  "language_info": {
   "codemirror_mode": {
    "name": "ipython",
    "version": 3
   },
   "file_extension": ".py",
   "mimetype": "text/x-python",
   "name": "python",
   "nbconvert_exporter": "python",
   "pygments_lexer": "ipython3",
   "version": "3.12.7"
  }
 },
 "nbformat": 4,
 "nbformat_minor": 2
}
