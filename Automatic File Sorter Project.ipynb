{
 "cells": [
  {
   "cell_type": "code",
   "execution_count": 1,
   "metadata": {},
   "outputs": [],
   "source": [
    "# CREATING AUTOMATIC FILES SORTER "
   ]
  },
  {
   "cell_type": "code",
   "execution_count": 3,
   "metadata": {},
   "outputs": [],
   "source": [
    "\n",
    "import os, shutil"
   ]
  },
  {
   "cell_type": "code",
   "execution_count": 3,
   "metadata": {},
   "outputs": [],
   "source": [
    "#CREATING FOLDER FOR OUR FILE SORTER\n",
    "\n",
    "if not os.path.exists(r'D:\\Python File\\FILE SORTER'):\n",
    "    os.mkdir(r'D:\\Python File\\FILE SORTER')"
   ]
  },
  {
   "cell_type": "code",
   "execution_count": 5,
   "metadata": {},
   "outputs": [],
   "source": [
    "path = r'D:\\Python File\\FILE SORTER\\\\'"
   ]
  },
  {
   "cell_type": "code",
   "execution_count": 8,
   "metadata": {},
   "outputs": [
    {
     "data": {
      "text/plain": [
       "['CSVFile.csv',\n",
       " 'FakeFile.csv',\n",
       " 'FakeFile.txt',\n",
       " 'Max.png',\n",
       " 'NewFile.tsv',\n",
       " 'NewFile.txt',\n",
       " 'Rosie.png']"
      ]
     },
     "execution_count": 8,
     "metadata": {},
     "output_type": "execute_result"
    }
   ],
   "source": [
    "# FILES INSIDE OUR FOLDER\n",
    "\n",
    "file_list = os.listdir(path)\n",
    "\n",
    "file_list"
   ]
  },
  {
   "cell_type": "code",
   "execution_count": 22,
   "metadata": {},
   "outputs": [
    {
     "name": "stdout",
     "output_type": "stream",
     "text": [
      "['tsv', 'csv', 'png', 'txt']\n"
     ]
    }
   ],
   "source": [
    "\n",
    "\n",
    "# SERCHING FOR ALL UNIQE EXTENSIONS \n",
    "\n",
    "unique_extensions = {file.split('.')[-1] for file in file_list if '.' in file}\n",
    "\n",
    "unique_extensions_list = list(unique_extensions)\n",
    "\n",
    "print(unique_extensions_list)\n"
   ]
  },
  {
   "cell_type": "code",
   "execution_count": 32,
   "metadata": {},
   "outputs": [
    {
     "name": "stdout",
     "output_type": "stream",
     "text": [
      "['TSV Files', 'CSV Files', 'PNG Files', 'TXT Files']\n"
     ]
    }
   ],
   "source": [
    "# CHANGING FOLDER NAMES\n",
    "\n",
    "modified_extensions = [ext.upper() for ext in unique_extensions]\n",
    "folder_names = [ext + ' Files' for ext in modified_extensions]\n",
    "\n",
    "print(folder_names)"
   ]
  },
  {
   "cell_type": "code",
   "execution_count": 33,
   "metadata": {},
   "outputs": [],
   "source": [
    "# CREATING FOLDERS FOR EACH FILE TYPE\n",
    "\n",
    "path = r'D:\\Python File\\FILE SORTER\\\\'\n",
    "\n",
    "for folder in folder_names:\n",
    "    if not os.path.exists(path + folder):\n",
    "        os.makedirs(path + folder)"
   ]
  },
  {
   "cell_type": "code",
   "execution_count": 6,
   "metadata": {},
   "outputs": [
    {
     "data": {
      "text/plain": [
       "['CSV Files',\n",
       " 'CSVFile.csv',\n",
       " 'FakeFile.csv',\n",
       " 'FakeFile.txt',\n",
       " 'Max.png',\n",
       " 'NewFile.tsv',\n",
       " 'NewFile.txt',\n",
       " 'PNG Files',\n",
       " 'Rosie.png',\n",
       " 'TSV Files',\n",
       " 'TXT Files']"
      ]
     },
     "execution_count": 6,
     "metadata": {},
     "output_type": "execute_result"
    }
   ],
   "source": [
    "file_names = os.listdir(path)\n",
    "\n",
    "file_names\n"
   ]
  },
  {
   "cell_type": "code",
   "execution_count": null,
   "metadata": {},
   "outputs": [],
   "source": [
    "# CREATING LOOP THAT WILL IDENTIFY FILE TYPE AND THEN PUT IT IN THE CORRECT FOLDER\n",
    "\n",
    "for file in file_names:\n",
    "    if '.tsv' in file and not os.path.exists(path + \"TSV Files\\\\\" + file):\n",
    "        shutil.move(path + file ,path + \"TSV Files\\\\\" + file)\n",
    "    elif '.csv' in file and not os.path.exists(path + \"CSV Files\\\\\" + file):\n",
    "        shutil.move(path + file ,path + \"CSV Files\\\\\" + file)\n",
    "    elif '.png' in file and not os.path.exists(path + \"PNG Files\\\\\" + file):\n",
    "        shutil.move(path + file ,path + \"PNG Files\\\\\" + file)\n",
    "    elif '.txt' in file and not os.path.exists(path + \"TXT Files\\\\\" + file):\n",
    "        shutil.move(path + file ,path + \"TXT Files\\\\\" + file)\n",
    "    "
   ]
  }
 ],
 "metadata": {
  "kernelspec": {
   "display_name": "base",
   "language": "python",
   "name": "python3"
  },
  "language_info": {
   "codemirror_mode": {
    "name": "ipython",
    "version": 3
   },
   "file_extension": ".py",
   "mimetype": "text/x-python",
   "name": "python",
   "nbconvert_exporter": "python",
   "pygments_lexer": "ipython3",
   "version": "3.12.7"
  }
 },
 "nbformat": 4,
 "nbformat_minor": 2
}
