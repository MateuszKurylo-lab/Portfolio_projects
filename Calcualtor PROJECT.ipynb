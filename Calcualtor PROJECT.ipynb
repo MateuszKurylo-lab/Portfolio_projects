{
 "cells": [
  {
   "cell_type": "code",
   "execution_count": null,
   "metadata": {},
   "outputs": [],
   "source": [
    "\n",
    "def add(x,y):\n",
    "    return x + y\n",
    "\n",
    "def subtrack(x,y):\n",
    "    return x - y\n",
    "\n",
    "def multiply(x,y):\n",
    "    return x * y\n",
    "\n",
    "def divide(x,y):\n",
    "    return x / y\n",
    "\n",
    "def percentage(x,y):\n",
    "    return (x / y)*100"
   ]
  },
  {
   "cell_type": "code",
   "execution_count": null,
   "metadata": {},
   "outputs": [],
   "source": [
    "while True:\n",
    "    choice = input('Enter Choice (+,-,*,/,%): ')\n",
    "    \n",
    "    if choice in ('+','-','*','/','%'):\n",
    "        num1 = float(input('Enter first number: '))\n",
    "        num2 = float(input('Entre second number: '))\n",
    "        \n",
    "        if choice in ('+'):\n",
    "            print('Result: ',add(num1,num2))\n",
    "        elif choice in ('-'):\n",
    "            print('Result: ',subtrack(num1,num2))\n",
    "        elif choice in ('*'):\n",
    "            print('Result: ',multiply(num1,num2))\n",
    "        elif choice in ('/'):\n",
    "            print('Result: ',divide(num1,num2))\n",
    "        elif choice in ('%'):\n",
    "            print('Result: ',percentage(num1,num2),'%')\n",
    "            \n",
    "    else:\n",
    "        print('Please enter correct choice')\n",
    "        "
   ]
  }
 ],
 "metadata": {
  "kernelspec": {
   "display_name": "base",
   "language": "python",
   "name": "python3"
  },
  "language_info": {
   "codemirror_mode": {
    "name": "ipython",
    "version": 3
   },
   "file_extension": ".py",
   "mimetype": "text/x-python",
   "name": "python",
   "nbconvert_exporter": "python",
   "pygments_lexer": "ipython3",
   "version": "3.12.7"
  }
 },
 "nbformat": 4,
 "nbformat_minor": 2
}
